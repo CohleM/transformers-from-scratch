{
 "cells": [
  {
   "cell_type": "markdown",
   "id": "a16370bf",
   "metadata": {},
   "source": [
    "## MultiHead attention"
   ]
  },
  {
   "cell_type": "code",
   "execution_count": 1,
   "id": "ff05993b",
   "metadata": {},
   "outputs": [],
   "source": [
    "import torch\n",
    "import torch.nn as nn\n",
    "import math"
   ]
  },
  {
   "cell_type": "markdown",
   "id": "d70293bd",
   "metadata": {},
   "source": [
    "## Input Embeddings\n",
    "\n",
    "Since, models don't have notion of words, We convert every word in a sequence into a vector representation of specific dimension (256 or 512 ...). There are certain processes involved in doing so. \n",
    "\n",
    "First, we should have a vocabulary, For example: think of it as a dictionary which contains letter a,b,c,d...z and the letters have their own indexes such as a = 0, b = 1, ... z = 25. so when we have a new letter presented to us, this embedding layer will be applied to that letter. for example c,d will be mapped to 3,4. \n",
    "\n",
    "So instead of having letter in our vocabulary we have words. So, with the help of this vocabulary we map our words in the sequence to the index in its original vocabulary.  "
   ]
  },
  {
   "cell_type": "code",
   "execution_count": 2,
   "id": "cb8c8cee",
   "metadata": {},
   "outputs": [],
   "source": [
    "## embeddings \n",
    "\n",
    "class InputEmbedding(nn.Module):\n",
    "    def __init__(self, vocab_size, d_model):\n",
    "        super().__init__()\n",
    "        self.d_model = d_model\n",
    "        self.embedding = nn.Embedding(vocab_size, d_model) \n",
    "        \n",
    "        \n",
    "    def forward(self, x):\n",
    "        # x is a batch of sequence of words, batch_size, sequence_length -> batch_size, sequence_length, d_model\n",
    "        return self.embedding(x) * math.sqrt(self.d_model)"
   ]
  },
  {
   "cell_type": "code",
   "execution_count": 3,
   "id": "d0672de0",
   "metadata": {},
   "outputs": [],
   "source": [
    "class PositionalEncoding(nn.Module):\n",
    "\n",
    "    def __init__(self, d_model: int, seq_len: int, dropout: float) -> None:\n",
    "        super().__init__()\n",
    "        self.d_model = d_model\n",
    "        self.seq_len = seq_len\n",
    "        self.dropout = nn.Dropout(dropout)\n",
    "        # Create a matrix of shape (seq_len, d_model)\n",
    "        pe = torch.zeros(seq_len, d_model)\n",
    "        # Create a vector of shape (seq_len)\n",
    "        position = torch.arange(0, seq_len, dtype=torch.float).unsqueeze(1) # (seq_len, 1)\n",
    "        # Create a vector of shape (d_model)\n",
    "        div_term = torch.exp(torch.arange(0, d_model, 2).float() * (-math.log(10000.0) / d_model)) # (d_model / 2)\n",
    "        # Apply sine to even indices\n",
    "        pe[:, 0::2] = torch.sin(position * div_term) # sin(position * (10000 ** (2i / d_model))\n",
    "        # Apply cosine to odd indices\n",
    "        pe[:, 1::2] = torch.cos(position * div_term) # cos(position * (10000 ** (2i / d_model))\n",
    "        # Add a batch dimension to the positional encoding\n",
    "        pe = pe.unsqueeze(0) # (1, seq_len, d_model)\n",
    "        # Register the positional encoding as a buffer\n",
    "        self.register_buffer('pe', pe)\n",
    "\n",
    "    def forward(self, x):\n",
    "        x = x + (self.pe[:, :x.shape[1], :]).requires_grad_(False) # (batch, seq_len, d_model)\n",
    "        return self.dropout(x)"
   ]
  },
  {
   "cell_type": "markdown",
   "id": "7737908c",
   "metadata": {},
   "source": [
    "## Layer Normalization\n",
    "\n",
    "In Layer Normalization, normalization is done across all the features $x_{i,k}$  than across all the batches, this prcoess removes the dependency input sequences with each other.\n",
    "\n",
    "First, We calculate mean and standard deviation. \n",
    "\n",
    "\\begin{gather} \\mu_i = \\frac{1}{K} \\sum_{k=1}^{K} x_{i,k} \\\\ \\sigma_i^2 = \\frac{1}{K} \\sum_{k=1}^{K} (x_{i,k} - \\mu_i)^2 \\\\ \\end{gather}\n",
    "\n",
    "\n",
    "Then we normalize each sample such that the elements in the sample have zero mean and unit variance. \n",
    "ϵ\n",
    " is for numerical stability in case the denominator becomes zero by chance.\n",
    " \n",
    " $$\\hat{x}_{i,k} = \\frac{x_{i,k}-\\mu_i}{\\sqrt{\\sigma_i^2 + \\epsilon}}$$\n",
    " \n",
    " Finally, there is a scaling and shifting step. \n",
    "γ\n",
    " and \n",
    "β\n",
    " are learnable parameters.\n",
    " \n",
    " $$y_i = \\gamma \\hat{x}_{i} + \\beta \\equiv {\\text{LN}}_{\\gamma, \\beta} (x_i)$$\n",
    " \n",
    "These parameters $\\gamma$ and $\\beta$ introduce fluctuations in the normalization"
   ]
  },
  {
   "cell_type": "code",
   "execution_count": 4,
   "id": "4d5dbcd7",
   "metadata": {},
   "outputs": [],
   "source": [
    "class LayerNormalization(nn.Module):\n",
    "    def __init__(self):\n",
    "        super().__init__()\n",
    "        self.eps = 10**-6\n",
    "        \n",
    "        ## specifying nn.Parameter will add requires_grad_ to that parameter so it will be a learnable parameter.\n",
    "        \n",
    "        self.gamma = nn.Parameter(torch.ones(1))\n",
    "        self.beta = nn.Parameter(torch.zeros(1))\n",
    "        \n",
    "    def forward(self,x):\n",
    "        \n",
    "        # (batch, seq_len, 1)\n",
    "        mean = x.mean(dim = -1, keepdim = True)\n",
    "        # (batch, seq_len, 1)\n",
    "        std = x.std(dim = -1, keepdim = True)\n",
    "        \n",
    "        # dimension is batch,seq_len, d_model\n",
    "        x = ( self.gamma * (x - mean) / (std + self.eps) ) + self.beta\n",
    "        \n",
    "        return x\n",
    "    "
   ]
  },
  {
   "cell_type": "code",
   "execution_count": 6,
   "id": "2dfac1f3",
   "metadata": {},
   "outputs": [],
   "source": [
    "LN = LayerNormalization()"
   ]
  },
  {
   "cell_type": "code",
   "execution_count": 7,
   "id": "d17d040b",
   "metadata": {},
   "outputs": [],
   "source": [
    "x = LN(torch.rand(2,3,256))"
   ]
  },
  {
   "cell_type": "code",
   "execution_count": 8,
   "id": "55b727f7",
   "metadata": {},
   "outputs": [
    {
     "data": {
      "text/plain": [
       "torch.Size([2, 3, 256])"
      ]
     },
     "execution_count": 8,
     "metadata": {},
     "output_type": "execute_result"
    }
   ],
   "source": [
    "x.shape"
   ]
  },
  {
   "cell_type": "code",
   "execution_count": 9,
   "id": "7eee4407",
   "metadata": {},
   "outputs": [],
   "source": [
    "embed = InputEmbedding(2000,256)"
   ]
  },
  {
   "cell_type": "code",
   "execution_count": 10,
   "id": "ecd8da12",
   "metadata": {},
   "outputs": [
    {
     "ename": "TypeError",
     "evalue": "embedding(): argument 'indices' (position 2) must be Tensor, not str",
     "output_type": "error",
     "traceback": [
      "\u001b[0;31m---------------------------------------------------------------------------\u001b[0m",
      "\u001b[0;31mTypeError\u001b[0m                                 Traceback (most recent call last)",
      "Cell \u001b[0;32mIn[10], line 1\u001b[0m\n\u001b[0;32m----> 1\u001b[0m embed(\u001b[38;5;124m'\u001b[39m\u001b[38;5;124myoo\u001b[39m\u001b[38;5;124m'\u001b[39m)\n",
      "File \u001b[0;32m~/anaconda3/envs/learnings/lib/python3.11/site-packages/torch/nn/modules/module.py:1501\u001b[0m, in \u001b[0;36mModule._call_impl\u001b[0;34m(self, *args, **kwargs)\u001b[0m\n\u001b[1;32m   1496\u001b[0m \u001b[38;5;66;03m# If we don't have any hooks, we want to skip the rest of the logic in\u001b[39;00m\n\u001b[1;32m   1497\u001b[0m \u001b[38;5;66;03m# this function, and just call forward.\u001b[39;00m\n\u001b[1;32m   1498\u001b[0m \u001b[38;5;28;01mif\u001b[39;00m \u001b[38;5;129;01mnot\u001b[39;00m (\u001b[38;5;28mself\u001b[39m\u001b[38;5;241m.\u001b[39m_backward_hooks \u001b[38;5;129;01mor\u001b[39;00m \u001b[38;5;28mself\u001b[39m\u001b[38;5;241m.\u001b[39m_backward_pre_hooks \u001b[38;5;129;01mor\u001b[39;00m \u001b[38;5;28mself\u001b[39m\u001b[38;5;241m.\u001b[39m_forward_hooks \u001b[38;5;129;01mor\u001b[39;00m \u001b[38;5;28mself\u001b[39m\u001b[38;5;241m.\u001b[39m_forward_pre_hooks\n\u001b[1;32m   1499\u001b[0m         \u001b[38;5;129;01mor\u001b[39;00m _global_backward_pre_hooks \u001b[38;5;129;01mor\u001b[39;00m _global_backward_hooks\n\u001b[1;32m   1500\u001b[0m         \u001b[38;5;129;01mor\u001b[39;00m _global_forward_hooks \u001b[38;5;129;01mor\u001b[39;00m _global_forward_pre_hooks):\n\u001b[0;32m-> 1501\u001b[0m     \u001b[38;5;28;01mreturn\u001b[39;00m forward_call(\u001b[38;5;241m*\u001b[39margs, \u001b[38;5;241m*\u001b[39m\u001b[38;5;241m*\u001b[39mkwargs)\n\u001b[1;32m   1502\u001b[0m \u001b[38;5;66;03m# Do not call functions when jit is used\u001b[39;00m\n\u001b[1;32m   1503\u001b[0m full_backward_hooks, non_full_backward_hooks \u001b[38;5;241m=\u001b[39m [], []\n",
      "Cell \u001b[0;32mIn[2], line 12\u001b[0m, in \u001b[0;36mInputEmbedding.forward\u001b[0;34m(self, x)\u001b[0m\n\u001b[1;32m     10\u001b[0m \u001b[38;5;28;01mdef\u001b[39;00m \u001b[38;5;21mforward\u001b[39m(\u001b[38;5;28mself\u001b[39m, x):\n\u001b[1;32m     11\u001b[0m     \u001b[38;5;66;03m# x is a batch of sequence of words, batch_size, sequence_length -> batch_size, sequence_length, d_model\u001b[39;00m\n\u001b[0;32m---> 12\u001b[0m     \u001b[38;5;28;01mreturn\u001b[39;00m \u001b[38;5;28mself\u001b[39m\u001b[38;5;241m.\u001b[39membedding(x) \u001b[38;5;241m*\u001b[39m math\u001b[38;5;241m.\u001b[39msqrt(\u001b[38;5;28mself\u001b[39m\u001b[38;5;241m.\u001b[39md_model)\n",
      "File \u001b[0;32m~/anaconda3/envs/learnings/lib/python3.11/site-packages/torch/nn/modules/module.py:1501\u001b[0m, in \u001b[0;36mModule._call_impl\u001b[0;34m(self, *args, **kwargs)\u001b[0m\n\u001b[1;32m   1496\u001b[0m \u001b[38;5;66;03m# If we don't have any hooks, we want to skip the rest of the logic in\u001b[39;00m\n\u001b[1;32m   1497\u001b[0m \u001b[38;5;66;03m# this function, and just call forward.\u001b[39;00m\n\u001b[1;32m   1498\u001b[0m \u001b[38;5;28;01mif\u001b[39;00m \u001b[38;5;129;01mnot\u001b[39;00m (\u001b[38;5;28mself\u001b[39m\u001b[38;5;241m.\u001b[39m_backward_hooks \u001b[38;5;129;01mor\u001b[39;00m \u001b[38;5;28mself\u001b[39m\u001b[38;5;241m.\u001b[39m_backward_pre_hooks \u001b[38;5;129;01mor\u001b[39;00m \u001b[38;5;28mself\u001b[39m\u001b[38;5;241m.\u001b[39m_forward_hooks \u001b[38;5;129;01mor\u001b[39;00m \u001b[38;5;28mself\u001b[39m\u001b[38;5;241m.\u001b[39m_forward_pre_hooks\n\u001b[1;32m   1499\u001b[0m         \u001b[38;5;129;01mor\u001b[39;00m _global_backward_pre_hooks \u001b[38;5;129;01mor\u001b[39;00m _global_backward_hooks\n\u001b[1;32m   1500\u001b[0m         \u001b[38;5;129;01mor\u001b[39;00m _global_forward_hooks \u001b[38;5;129;01mor\u001b[39;00m _global_forward_pre_hooks):\n\u001b[0;32m-> 1501\u001b[0m     \u001b[38;5;28;01mreturn\u001b[39;00m forward_call(\u001b[38;5;241m*\u001b[39margs, \u001b[38;5;241m*\u001b[39m\u001b[38;5;241m*\u001b[39mkwargs)\n\u001b[1;32m   1502\u001b[0m \u001b[38;5;66;03m# Do not call functions when jit is used\u001b[39;00m\n\u001b[1;32m   1503\u001b[0m full_backward_hooks, non_full_backward_hooks \u001b[38;5;241m=\u001b[39m [], []\n",
      "File \u001b[0;32m~/anaconda3/envs/learnings/lib/python3.11/site-packages/torch/nn/modules/sparse.py:162\u001b[0m, in \u001b[0;36mEmbedding.forward\u001b[0;34m(self, input)\u001b[0m\n\u001b[1;32m    161\u001b[0m \u001b[38;5;28;01mdef\u001b[39;00m \u001b[38;5;21mforward\u001b[39m(\u001b[38;5;28mself\u001b[39m, \u001b[38;5;28minput\u001b[39m: Tensor) \u001b[38;5;241m-\u001b[39m\u001b[38;5;241m>\u001b[39m Tensor:\n\u001b[0;32m--> 162\u001b[0m     \u001b[38;5;28;01mreturn\u001b[39;00m F\u001b[38;5;241m.\u001b[39membedding(\n\u001b[1;32m    163\u001b[0m         \u001b[38;5;28minput\u001b[39m, \u001b[38;5;28mself\u001b[39m\u001b[38;5;241m.\u001b[39mweight, \u001b[38;5;28mself\u001b[39m\u001b[38;5;241m.\u001b[39mpadding_idx, \u001b[38;5;28mself\u001b[39m\u001b[38;5;241m.\u001b[39mmax_norm,\n\u001b[1;32m    164\u001b[0m         \u001b[38;5;28mself\u001b[39m\u001b[38;5;241m.\u001b[39mnorm_type, \u001b[38;5;28mself\u001b[39m\u001b[38;5;241m.\u001b[39mscale_grad_by_freq, \u001b[38;5;28mself\u001b[39m\u001b[38;5;241m.\u001b[39msparse)\n",
      "File \u001b[0;32m~/anaconda3/envs/learnings/lib/python3.11/site-packages/torch/nn/functional.py:2210\u001b[0m, in \u001b[0;36membedding\u001b[0;34m(input, weight, padding_idx, max_norm, norm_type, scale_grad_by_freq, sparse)\u001b[0m\n\u001b[1;32m   2204\u001b[0m     \u001b[38;5;66;03m# Note [embedding_renorm set_grad_enabled]\u001b[39;00m\n\u001b[1;32m   2205\u001b[0m     \u001b[38;5;66;03m# XXX: equivalent to\u001b[39;00m\n\u001b[1;32m   2206\u001b[0m     \u001b[38;5;66;03m# with torch.no_grad():\u001b[39;00m\n\u001b[1;32m   2207\u001b[0m     \u001b[38;5;66;03m#   torch.embedding_renorm_\u001b[39;00m\n\u001b[1;32m   2208\u001b[0m     \u001b[38;5;66;03m# remove once script supports set_grad_enabled\u001b[39;00m\n\u001b[1;32m   2209\u001b[0m     _no_grad_embedding_renorm_(weight, \u001b[38;5;28minput\u001b[39m, max_norm, norm_type)\n\u001b[0;32m-> 2210\u001b[0m \u001b[38;5;28;01mreturn\u001b[39;00m torch\u001b[38;5;241m.\u001b[39membedding(weight, \u001b[38;5;28minput\u001b[39m, padding_idx, scale_grad_by_freq, sparse)\n",
      "\u001b[0;31mTypeError\u001b[0m: embedding(): argument 'indices' (position 2) must be Tensor, not str"
     ]
    }
   ],
   "source": [
    "embed('yoo')"
   ]
  },
  {
   "cell_type": "markdown",
   "id": "3820a25c",
   "metadata": {},
   "source": [
    "![(https://production-media.paperswithcode.com/methods/multi-head-attention_l1A3G7a.png)](https://data-science-blog.com/wp-content/uploads/2022/01/mha_img_original.png)"
   ]
  },
  {
   "cell_type": "code",
   "execution_count": null,
   "id": "b6e4cb9d",
   "metadata": {},
   "outputs": [],
   "source": []
  },
  {
   "cell_type": "markdown",
   "id": "eac1dd75",
   "metadata": {},
   "source": [
    "## MultiHeadAttention\n",
    "\n",
    "Here comes the most important mechanism that powers whole the LLM industry, **attention** \n",
    "\n",
    "Attention in general refers to focus on some specific section of words while ignoring others. Attention is used to understand the context of a word in a sequence.\n",
    "\n",
    "The concept of self-attention is to utilize the entire sequence to compute a weighted average of each token's embedding instead of relying on a fixed embedding for each token like word2vec. Embeddings that are generated this way are called contextualized embeddings. This can be restated as self-attention generating a new sequence of embeddings $x_1', \\ldots, x_n'$ when given a sequence of token embeddings $x_1, \\ldots, x_n$, where each new embedding $x_i'$ is a linear combination of all the $x_j$ in the sequence.\n",
    "\n",
    "$x_i' = \\sum_{j=1}^{n} w_{ji} x_j$\n",
    "\n",
    "The coefficients $w_{ji}$ are called attention weights and are normalized so that:\n",
    "\n",
    "$\\sum_{j=1}^{n} w_{ji} = 1$\n",
    "\n",
    "So, the magic of paying attention is enabled by these attention weights.\n",
    "\n",
    "For example, let’s consider these two sentences.\n",
    "\n",
    "    I love cool, crisp fall weather.\n",
    "    Don’t fall on your way to the gym.\n",
    "\n",
    "  The word fall in the first sentence denotes weather by looking at words like cool and crips whereas fall in the second sentence denotes actually falling by looking at words like way and gym.\n",
    "\n",
    "\n",
    "Let's discuss how we construct attention weights and the final embedding representation.\n",
    "\n",
    "### Scaled dot-product attention\n",
    "\n",
    "Scaled Dot-Product Attention is used to calculate the attention weights.\n",
    "The first step in calculating self-attention is to project three vectors from each of the encoder’s input vectors (in this case, token embeddings). So for each word, we project three matrices,  𝑄,𝐾,𝑉  and which are called Query vector, a Key vector, and a Value vector and each has a dimension of  𝑑𝑘 . \n",
    "\n",
    "These vectors are created by multiplying the embedding by three matrices that we trained during the training process.\n",
    "The dot product acts as a similarity function which determines how much the query and key vectors relate to each other. If queries and keys are similar, they will result in a significant dot product.\n",
    "\n",
    "The output is calculated as a weighted sum of the values, with each value's weight determined by the query's compatibility function with its corresponding key.\n",
    "\n",
    "\n",
    "\n",
    "To obtain the final weights on the values, first, the dot product of the query with all keys is computed and then normalized by $\\sqrt{d_{k}}$. Then a softmax function is applied. Finally, $V$ is multiplied with the previous output.\n",
    "\n",
    "The final output is:\n",
    "\n",
    "$Attention(Q, K, V) = \\text{softmax}(\\frac{QK^T}{\\sqrt{d_k}})V$\n",
    "\n",
    "The intuition is that the softmax reweights between 0 and 1 (kind of like probability for each word), which sums upto 1 for all the words. So, multiplying this probability with $V$ determines the contribution of each word against each other. \n",
    "\n",
    "\n",
    "\n",
    "If you don't understand the how we calculate the attention weights and the final embedding representation then, let's understand this with the help of an analogy.\n",
    "\n",
    "Suppose you want to make something to eat for dinner. But you don't know how to. But you've got a Recepie book that tells you what ingredients to use let the Recepie book be our QUERY, now you go to a supermarket to buy these recepies, the ingredients the supermarket has in their shelves is the KEY, and now you look at your recepie book and ingredients in the shelves to find how similar they are, which becomes our attention weights. Now that you've found how similar these ingredients are, you update your shopping cart based on the similarity, which is, multiplying the attention weights with VALUES. That's it Now you have your ingredient, which is the embedding representation which will be used for Language modeling later."
   ]
  },
  {
   "cell_type": "code",
   "execution_count": 120,
   "id": "18f60f37",
   "metadata": {},
   "outputs": [],
   "source": [
    "class MultiHeadAttention(nn.Module):\n",
    "    \"\"\"This class resembles to the sequence of the above multiheadattenion picture\"\"\"\n",
    "    ##self, input_sequence, head_size, embedding_dimention\n",
    "    def __init__(self, d_model: int, h: int, dropout: float ) -> None:\n",
    "        super().__init__()\n",
    "        \n",
    "        self.h = h\n",
    "        \n",
    "        assert d_model % h == 0, \"d_model is not divisible by head\"\n",
    "        self.dropout = nn.Dropout(dropout)\n",
    "        self.d_k = d_model // h\n",
    "        self.W_Q = nn.Linear(d_model, d_model, bias = False)\n",
    "        self.W_K = nn.Linear(d_model, d_model, bias = False)\n",
    "        self.W_V = nn.Linear(d_model, d_model, bias = False)\n",
    "        self.W_O = nn.Linear(d_model, d_model, bias = False)\n",
    "        \n",
    "        \n",
    "    @staticmethod\n",
    "    def scaled_dot_product_attention(query, key, value, mask, dropout: nn.Dropout ):\n",
    "        d_k = query.shape[-1]\n",
    "        #dot product between Q and K\n",
    "        attention_weights = query @ key.transpose(-2,-1)\n",
    "        \n",
    "        #scaling\n",
    "        attention_weights = attention_weights / math.sqrt(d_k)\n",
    "        \n",
    "        #masking\n",
    "        if mask is not None:\n",
    "            attention_weights = attention_weights.masked_fill_(mask == 0, -1e9)\n",
    "        \n",
    "        attention_weights = attention_weights.softmax(dim = -1)\n",
    "        \n",
    "        #dropout\n",
    "        if dropout is not None:\n",
    "            attention_weights = dropout(attention_weights)\n",
    "            \n",
    "        return attention_weights @ key, attention_weights\n",
    "        \n",
    "        \n",
    "    \n",
    "    def forward(self, q, k, v, mask):\n",
    "        \n",
    "        #q,k,v are embeddings of whole batch of sequence, so their size would be batch_size, sequence_length, d_model (embedding dimension)\n",
    "        query = self.W_Q(q)\n",
    "        key = self.W_K(k)\n",
    "        value = self.W_V(v)\n",
    "        \n",
    "        #divide the q,k,v into different h heads\n",
    "        \n",
    "        #query initially had size of (batch_size, sequence_length, d_model)\n",
    "        #and we split the d_model which is the embedding into different heads with each size of d_k = d_model/h\n",
    "        #We finally call transpose to swap the h and sequence length, since, we want all the sequence words to have access to embeddings\n",
    "        \n",
    "        query = query.view(query.shape[0], query.shape[1], self.h, self.d_k).transpose(1,2)\n",
    "        key = key.view(key.shape[0], key.shape[1], self.h, self.d_k).transpose(1,2)\n",
    "        value = value.view(value.shape[0], value.shape[1], self.h, self.d_k).transpose(1,2)\n",
    "        \n",
    "        #print(query.shape)\n",
    "        \n",
    "        ## Now we perform scaled dot product here\n",
    "        output, self.attention_weights = MultiHeadAttention.scaled_dot_product_attention(query, key, value, mask, self.dropout)\n",
    "        \n",
    "        #concatination part happens here\n",
    "        #output's dimension is batch_size, h, sequence_length, d_k we combine\n",
    "        \n",
    "        #hen you call contiguous(), it actually makes a copy of the tensor such that the order of its elements in memory is the same as if it had been created from scratch with the same data.\n",
    "        output = output.transpose(1,2).contiguous().view(output.shape[0], -1 , self.d_k * self.h)\n",
    "        \n",
    "        #apply the linear part by multiplying with the Linear layer i.e self.W_O\n",
    "        \n",
    "        return self.W_O(output)\n",
    "        \n"
   ]
  },
  {
   "cell_type": "markdown",
   "id": "f8c6413e",
   "metadata": {},
   "source": [
    "## FeedForward Neural Network\n",
    "\n"
   ]
  },
  {
   "cell_type": "code",
   "execution_count": 121,
   "id": "ac64685f",
   "metadata": {},
   "outputs": [],
   "source": [
    "class FeedForwardNeuralNetwork(nn.Module):\n",
    "    def __init__(self, d_model, dff, dropout):\n",
    "        super().__init__()\n",
    "        self.layer1 = nn.Linear(d_model, dff)\n",
    "        self.layer2 = nn.Linear(dff, d_model)\n",
    "        self.dropout = nn.Dropout()\n",
    "        self.relu = nn.ReLU()\n",
    "        \n",
    "    def forward(self,x):\n",
    "        \n",
    "        #x has dimension of (batch_size, sequence length, d_model)\n",
    "        x = self.layer1(x)\n",
    "        x = self.relu(x)\n",
    "        x = self.dropout(x)\n",
    "        x = self.layer2(x)\n",
    "        return x"
   ]
  },
  {
   "cell_type": "code",
   "execution_count": 122,
   "id": "c47da202",
   "metadata": {},
   "outputs": [],
   "source": [
    "checkff = FeedForwardNeuralNetwork(512,2048, 0.1)"
   ]
  },
  {
   "cell_type": "code",
   "execution_count": 123,
   "id": "cfa490da",
   "metadata": {},
   "outputs": [
    {
     "data": {
      "text/plain": [
       "torch.Size([2, 3, 512])"
      ]
     },
     "execution_count": 123,
     "metadata": {},
     "output_type": "execute_result"
    }
   ],
   "source": [
    "checkff(torch.rand(2,3,512)).shape"
   ]
  },
  {
   "cell_type": "code",
   "execution_count": null,
   "id": "c907b23b",
   "metadata": {},
   "outputs": [],
   "source": []
  },
  {
   "cell_type": "code",
   "execution_count": 124,
   "id": "e210da4c",
   "metadata": {},
   "outputs": [],
   "source": [
    "attention = MultiHeadAttention(256, 8, 0.1)"
   ]
  },
  {
   "cell_type": "code",
   "execution_count": 125,
   "id": "8901c1eb",
   "metadata": {},
   "outputs": [],
   "source": [
    "q = torch.rand(8, 10, 256)"
   ]
  },
  {
   "cell_type": "code",
   "execution_count": 126,
   "id": "5b29f008",
   "metadata": {},
   "outputs": [
    {
     "data": {
      "text/plain": [
       "torch.Size([8, 10, 256])"
      ]
     },
     "execution_count": 126,
     "metadata": {},
     "output_type": "execute_result"
    }
   ],
   "source": [
    "q.shape"
   ]
  },
  {
   "cell_type": "code",
   "execution_count": 129,
   "id": "025024aa",
   "metadata": {},
   "outputs": [],
   "source": [
    "x = attention(q,q,q,torch.rand(10,10))"
   ]
  },
  {
   "cell_type": "code",
   "execution_count": 130,
   "id": "7fc27b3a",
   "metadata": {},
   "outputs": [
    {
     "data": {
      "text/plain": [
       "torch.Size([8, 10, 256])"
      ]
     },
     "execution_count": 130,
     "metadata": {},
     "output_type": "execute_result"
    }
   ],
   "source": [
    "x.shape"
   ]
  },
  {
   "cell_type": "code",
   "execution_count": null,
   "id": "e39913da",
   "metadata": {},
   "outputs": [],
   "source": []
  },
  {
   "cell_type": "markdown",
   "id": "c62c899d",
   "metadata": {},
   "source": [
    "## Residual Connection"
   ]
  },
  {
   "cell_type": "code",
   "execution_count": 42,
   "id": "ddde6194",
   "metadata": {},
   "outputs": [],
   "source": [
    "class ResidualConnection(nn.Module):\n",
    "    # here sublayer can be either Multihead attention or feedforward neural network see the figure for more info\n",
    "    def __init__(self, dropout):\n",
    "        super().__init__()\n",
    "        self.norm = LayerNormalization()\n",
    "        self.dropout = nn.Dropout(dropout)\n",
    "        \n",
    "    def forward(self, x, sublayer):\n",
    "        #This is different from the paper, we add pre-layer normalization here which means\n",
    "        # we first add normalize and then add the sublayer and then the dropout\n",
    "        return x + self.dropout(sublayer(self.norm(x) ) )\n",
    "\n",
    "\n",
    "        "
   ]
  },
  {
   "cell_type": "code",
   "execution_count": 59,
   "id": "c54ec5e6",
   "metadata": {},
   "outputs": [],
   "source": [
    "rescon = ResidualConnection(0.1)"
   ]
  },
  {
   "cell_type": "markdown",
   "id": "4b39f3e2",
   "metadata": {},
   "source": [
    "## Encoder Layer"
   ]
  },
  {
   "cell_type": "code",
   "execution_count": 131,
   "id": "b920ffb7",
   "metadata": {},
   "outputs": [],
   "source": [
    "class EncoderBlock(nn.Module):\n",
    "    def __init__(self, multi_head_attention: MultiHeadAttention , feed_forward_neural_network: FeedForwardNeuralNetwork, dropout ):\n",
    "        super().__init__()\n",
    "        self.multi_head_attention = multi_head_attention\n",
    "        self.feed_forward_neural_network = feed_forward_neural_network\n",
    "        \n",
    "#         self.ResidualConnectionForAtt = ResidualConnection(dropout)\n",
    "#         self.ResidualConnectionForFF = ResidualConnection(dropout)\n",
    "        \n",
    "        self.residual_connection = nn.ModuleList([ResidualConnection(dropout) for _ in range(2) ])\n",
    "        \n",
    "        \n",
    "    def forward(self, x, src_mask):\n",
    "        # x has dimension of batch_size, sequence_length, embedding_dimension i.e d_model\n",
    "        \n",
    "        #ResidualConnection takes in sublayer that could be either the MultiHeadAttention or FeedForwardNeuralNetwork\n",
    "        x = self.residual_connection[0](x, lambda x: self.multi_head_attention(x,x,x, src_mask) )\n",
    "        \n",
    "        x = self.residual_connection[1](x, self.feed_forward_neural_network )\n",
    "        \n",
    "        return x\n",
    "        "
   ]
  },
  {
   "cell_type": "code",
   "execution_count": 134,
   "id": "a14488da",
   "metadata": {},
   "outputs": [],
   "source": [
    "x = torch.rand(2,3,256)\n",
    "encoder = EncoderBlock(MultiHeadAttention(256,8, 0.1), FeedForwardNeuralNetwork(256, 1024, 0.1), 0.1)\n",
    "\n",
    "\n"
   ]
  },
  {
   "cell_type": "code",
   "execution_count": 136,
   "id": "e63ec307",
   "metadata": {},
   "outputs": [
    {
     "data": {
      "text/plain": [
       "tensor([[[-0.1397,  0.7158,  0.6990,  ...,  0.4477,  0.5085,  0.4095],\n",
       "         [ 0.2188,  0.5374,  0.0916,  ...,  0.6719,  0.6135,  0.4852],\n",
       "         [-0.0276,  0.6858,  0.6194,  ...,  0.4255,  0.4995,  0.2260]],\n",
       "\n",
       "        [[ 0.1064,  0.7339,  1.3082,  ..., -0.1363,  0.7165,  0.6924],\n",
       "         [ 0.1363,  1.3914,  0.3713,  ...,  0.2192, -0.0998, -0.1291],\n",
       "         [ 0.6823,  0.8963,  0.6930,  ...,  0.8825, -0.0047,  0.6211]]],\n",
       "       grad_fn=<AddBackward0>)"
      ]
     },
     "execution_count": 136,
     "metadata": {},
     "output_type": "execute_result"
    }
   ],
   "source": [
    "encoder(x,torch.rand(3,3))"
   ]
  },
  {
   "cell_type": "code",
   "execution_count": null,
   "id": "68843ea4",
   "metadata": {},
   "outputs": [],
   "source": []
  },
  {
   "cell_type": "markdown",
   "id": "3f3b70c9",
   "metadata": {},
   "source": [
    "### Whole Encoder"
   ]
  },
  {
   "cell_type": "code",
   "execution_count": 169,
   "id": "f108567c",
   "metadata": {},
   "outputs": [],
   "source": [
    "class Encoder(nn.Module):\n",
    "    def __init__(self, layers : nn.ModuleList ):\n",
    "        self.layers = layers\n",
    "        self.norm = LayerNormalization()\n",
    "        \n",
    "    def forward(self, x):\n",
    "        for layer in self.layers:\n",
    "            x = layer(x)\n",
    "    \n",
    "        return self.norm(x)"
   ]
  },
  {
   "cell_type": "markdown",
   "id": "1e935cf9",
   "metadata": {},
   "source": [
    "### Sample working for ResidualConnectinForAtt"
   ]
  },
  {
   "cell_type": "code",
   "execution_count": 27,
   "id": "68899e5d",
   "metadata": {},
   "outputs": [],
   "source": [
    "def func1(q,k,v): #Imagine this is MultiHeadAttention layer\n",
    "    print(q+k+v)"
   ]
  },
  {
   "cell_type": "code",
   "execution_count": 32,
   "id": "f1297326",
   "metadata": {},
   "outputs": [],
   "source": [
    "def func2(x, sublayer):\n",
    "    x = x + 2\n",
    "    return sublayer(x)"
   ]
  },
  {
   "cell_type": "code",
   "execution_count": 33,
   "id": "7dad400a",
   "metadata": {},
   "outputs": [
    {
     "name": "stdout",
     "output_type": "stream",
     "text": [
      "9\n"
     ]
    }
   ],
   "source": [
    "func2(1,lambda x: func1(x,x,x))"
   ]
  },
  {
   "cell_type": "markdown",
   "id": "42c55b2b",
   "metadata": {},
   "source": [
    "## Decoder"
   ]
  },
  {
   "cell_type": "code",
   "execution_count": 146,
   "id": "aa6732d2",
   "metadata": {},
   "outputs": [],
   "source": [
    "class DecoderBlock(nn.Module):\n",
    "    def __init__(self, multi_head_attention: MultiHeadAttention, cross_attention: MultiHeadAttention, feed_forward_neural_network: FeedForwardNeuralNetwork, dropout):\n",
    "        super().__init__()\n",
    "        self.multi_head_attention = multi_head_attention\n",
    "        self.cross_attention = cross_attention\n",
    "        self.feed_forward_neural_network = feed_forward_neural_network\n",
    "        \n",
    "        self.residual_connection = nn.ModuleList([ResidualConnection(dropout) for _ in range(3)])\n",
    "        \n",
    "    def forward(self, x,encoder_output, src_mask, target_mask ):\n",
    "        #Since this is the decoder block so it'll add the target mask, mask sizes are (sequence_length, sequence_length)\n",
    "        x = self.residual_connection[0](x, lambda x: self.multi_head_attention(x,x,x, target_mask ))\n",
    "        x = self.residual_connection[1](x, lambda x: self.cross_attention(x, encoder_output, encoder_output, src_mask))\n",
    "        x = self.residual_connection[2](x, self.feed_forward_neural_network )\n",
    "        \n",
    "        return x"
   ]
  },
  {
   "cell_type": "code",
   "execution_count": 149,
   "id": "770bae4d",
   "metadata": {},
   "outputs": [],
   "source": [
    "#### Testing Decoder"
   ]
  },
  {
   "cell_type": "code",
   "execution_count": 150,
   "id": "b804627c",
   "metadata": {},
   "outputs": [],
   "source": [
    "decoder = DecoderBlock(MultiHeadAttention(256,8, 0.1),MultiHeadAttention(256,8, 0.1), FeedForwardNeuralNetwork(256, 1024, 0.1), 0.1) "
   ]
  },
  {
   "cell_type": "code",
   "execution_count": 151,
   "id": "a637ca1f",
   "metadata": {},
   "outputs": [
    {
     "data": {
      "text/plain": [
       "tensor([[[ 0.1410,  0.7607,  0.6645,  ...,  0.2440, -0.1953,  0.8882],\n",
       "         [ 0.6027,  0.9619,  0.6481,  ...,  1.3845, -0.0954,  0.6457],\n",
       "         [-0.2824,  0.7030,  0.7282,  ...,  1.4268,  0.1493, -0.1989],\n",
       "         ...,\n",
       "         [ 0.5194,  0.1220,  1.0299,  ...,  1.6713, -0.4655,  0.6731],\n",
       "         [ 0.2809,  0.3560,  0.8084,  ...,  0.5149,  0.1513,  0.4887],\n",
       "         [ 0.3066,  0.1597,  0.7018,  ...,  0.7505,  0.0167,  0.6384]],\n",
       "\n",
       "        [[ 0.2780,  0.9038,  0.8930,  ..., -0.0428,  0.0349,  0.3159],\n",
       "         [ 0.1079,  0.6233,  0.9927,  ...,  0.8181,  0.3700,  0.1943],\n",
       "         [ 0.3418,  0.8948,  0.8120,  ...,  0.1612, -0.0806, -0.1750],\n",
       "         ...,\n",
       "         [ 0.7885,  0.8552,  0.5924,  ...,  0.6979,  0.2468,  0.9633],\n",
       "         [ 0.6603, -0.1144,  1.6342,  ...,  0.6678, -0.6207,  0.7890],\n",
       "         [ 1.0396,  1.9594,  0.4226,  ...,  0.3469,  0.0022,  0.5772]]],\n",
       "       grad_fn=<AddBackward0>)"
      ]
     },
     "execution_count": 151,
     "metadata": {},
     "output_type": "execute_result"
    }
   ],
   "source": [
    "decoder(torch.rand(2,10, 256),torch.rand(2,10, 256), torch.rand(10,10), torch.rand(10,10))"
   ]
  },
  {
   "cell_type": "markdown",
   "id": "c9b22038",
   "metadata": {},
   "source": [
    "### Whole Decoder"
   ]
  },
  {
   "cell_type": "code",
   "execution_count": 153,
   "id": "283d8ca0",
   "metadata": {},
   "outputs": [],
   "source": [
    "class Decoder(nn.Module):\n",
    "    def __init__(self, layers: nn.ModuleList):\n",
    "        self.layers = layers\n",
    "        self.norm = LayerNormalization()\n",
    "        \n",
    "    def forward(self,x, encoder_output, src_mask, target_mask ):\n",
    "        for layer in self.layers:\n",
    "            x = layer(x, encoder_output, src_mask, target_mask  )\n",
    "        return self.norm(x)\n",
    "    \n"
   ]
  },
  {
   "cell_type": "markdown",
   "id": "b2fdfcf6",
   "metadata": {},
   "source": [
    "## Linear Transformation\n",
    "Projecting each embedding to a word in vocabulory \n"
   ]
  },
  {
   "cell_type": "code",
   "execution_count": 166,
   "id": "29d3f5d4",
   "metadata": {},
   "outputs": [],
   "source": [
    "class LinearTransformation(nn.Module):\n",
    "    def __init__(self, d_model, vocab_size):\n",
    "        super().__init__()\n",
    "        self.linear = nn.Linear(d_model, vocab_size)\n",
    "        \n",
    "    def forward(self, x):\n",
    "        # (batch, seq_len, d_model) --> (batch, seq_len, vocab_size)\n",
    "        # This is predicting what comes after each word.\n",
    "        \n",
    "        return torch.log_softmax(self.linear(x), dim = -1)\n",
    "    "
   ]
  },
  {
   "cell_type": "code",
   "execution_count": 167,
   "id": "9c651f57",
   "metadata": {},
   "outputs": [],
   "source": [
    "lin = LinearTransformation(256, 342)"
   ]
  },
  {
   "cell_type": "code",
   "execution_count": 168,
   "id": "e77995a8",
   "metadata": {},
   "outputs": [
    {
     "data": {
      "text/plain": [
       "torch.Size([2, 3, 342])"
      ]
     },
     "execution_count": 168,
     "metadata": {},
     "output_type": "execute_result"
    }
   ],
   "source": [
    "lin(torch.rand(2,3,256)).shape"
   ]
  },
  {
   "cell_type": "markdown",
   "id": "8c3951fe",
   "metadata": {},
   "source": [
    "## Transformer"
   ]
  },
  {
   "cell_type": "code",
   "execution_count": 170,
   "id": "a8e1c7b4",
   "metadata": {},
   "outputs": [],
   "source": [
    "class Transformer(nn.Module):\n",
    "    def __init__(self, encoder: Encoder, decoder: Decoder, projection: LinearTransformation,input_embedding: InputEmbedding, positional_encoding: PositionalEncoding ):\n",
    "        super().__init__()\n",
    "        self.encoder = encoder\n",
    "        self.decoder = decoder\n",
    "        self.projection = projection\n",
    "        self.input_embedding = input_embedding\n",
    "        self.positional_embedding = position_embedding\n",
    "        \n",
    "    def encode(self,x):\n",
    "        # positional encoding function will concatinate the input embedding with the positional encodings. \n",
    "        x = self.input_embedding(x)\n",
    "        x = self.positional_embedding(x)\n",
    "        return self.encoder(x)\n",
    "        \n",
    "    def decode(self,x, encoder_output,src_mask, target_mask ):\n",
    "        x = self.input_embedding(x)\n",
    "        x = self.positional_embedding(x)\n",
    "        \n",
    "        return self.decoder(x,encoder_output,src_mask, target_mask )\n",
    "        \n",
    "        \n",
    "    def project(self, x):\n",
    "        \n",
    "        return self.projection(x)"
   ]
  },
  {
   "cell_type": "markdown",
   "id": "12565f01",
   "metadata": {},
   "source": [
    "## Building the Transformers\n",
    "\n",
    "This is where we actually build the transformers. Now that we have implemented all the classes, we will go on to build the actual transformer"
   ]
  },
  {
   "cell_type": "code",
   "execution_count": null,
   "id": "4f1a39c4",
   "metadata": {},
   "outputs": [],
   "source": [
    "def buildingTranformers(source_vocab_size,target_vocab_size, source_seq_length:int, target_seq_length: int, d_model: int = 512, dropout: float = 0.1, dff: int = 2048 , h:int = 8, N:int = 6):\n",
    "    #Encoder, Decoder, LinearTransformation, InputEmbedding, PositionalEncoding\n",
    "    #MultiHeadAttention, FeedForwardNeuralNetwork, EncoderBlock, DecoderBlock\n",
    "    \n",
    "    source_embedding = InputEmbedding(source_vocab_size, d_model)\n",
    "    target_embedding = InputEmbedding(target_vocab_size, d_model)\n",
    "    \n",
    "    source_positional_encoding = PositionalEncoding(d_model, source_seq_length, dropout)\n",
    "    target_positional_encoding = PositionalEncoding(d_model, target_seq_length, dropout)\n",
    "    \n",
    "    multi_head_attention = MultiHeadAttention(d_model, h, dropout)\n",
    "    feed_forward_neural_network = FeedForwardNeuralNetwork()\n",
    "    \n",
    "    \n",
    "    \n",
    "    \n",
    "    \n",
    "    "
   ]
  },
  {
   "cell_type": "code",
   "execution_count": null,
   "id": "b756b913",
   "metadata": {},
   "outputs": [],
   "source": []
  },
  {
   "cell_type": "code",
   "execution_count": null,
   "id": "98752aed",
   "metadata": {},
   "outputs": [],
   "source": []
  },
  {
   "cell_type": "code",
   "execution_count": null,
   "id": "0f0522c5",
   "metadata": {},
   "outputs": [],
   "source": []
  }
 ],
 "metadata": {
  "kernelspec": {
   "display_name": "learnings",
   "language": "python",
   "name": "learnings"
  },
  "language_info": {
   "codemirror_mode": {
    "name": "ipython",
    "version": 3
   },
   "file_extension": ".py",
   "mimetype": "text/x-python",
   "name": "python",
   "nbconvert_exporter": "python",
   "pygments_lexer": "ipython3",
   "version": "3.11.3"
  }
 },
 "nbformat": 4,
 "nbformat_minor": 5
}
